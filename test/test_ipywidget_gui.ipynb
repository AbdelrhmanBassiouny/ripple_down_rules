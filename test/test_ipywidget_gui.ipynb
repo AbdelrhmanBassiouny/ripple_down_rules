{
 "cells": [
  {
   "cell_type": "code",
   "id": "initial_id",
   "metadata": {
    "collapsed": true,
    "ExecuteTime": {
     "end_time": "2025-05-17T22:17:16.835404Z",
     "start_time": "2025-05-17T22:17:16.825298Z"
    }
   },
   "source": [
    "from copy import copy\n",
    "import inspect\n",
    "from collections import UserDict\n",
    "\n",
    "import ipywidgets as widgets\n",
    "from IPython.display import display\n",
    "import html, re\n",
    "\n",
    "from attr import attributes\n",
    "\n",
    "from ripple_down_rules.utils import is_iterable\n",
    "\n",
    "\n",
    "def format_python_literal(value):\n",
    "    s = repr(value)\n",
    "    s = html.escape(s)\n",
    "    s = re.sub(r'(&#x27;.*?&#x27;|\".*?\")', r\"<span style='color:green'>\\1</span>\", s)\n",
    "    s = re.sub(r'\\b\\d+(\\.\\d+)?\\b', r\"<span style='color:blue'>\\g<0></span>\", s)\n",
    "    s = re.sub(r'\\b(True|False|None)\\b', r\"<span style='color:darkorange'>\\1</span>\", s)\n",
    "    return f\"<code>{s}</code>\"\n",
    "\n",
    "def make_attr_row(attr, value, curr_depth=0, max_depth=3):\n",
    "    \"\"\"\n",
    "    Create a row for displaying an attribute and its value.\n",
    "\n",
    "    :param attr: The name of the attribute.\n",
    "    :param value: The value of the attribute.\n",
    "    :param curr_depth: The current depth of exploration.\n",
    "    :param max_depth: The maximum depth to explore.\n",
    "    \"\"\"\n",
    "    btn = widgets.Button(description=attr, layout=widgets.Layout(width='150px', flex='0 0 auto'))\n",
    "\n",
    "    if attr == \"scope\":\n",
    "        row = widgets.HBox([btn, widgets.HTML(value=\"<code>Scope</code>\", layout=widgets.Layout(margin='0 0 0 10px'))])\n",
    "\n",
    "    elif isinstance(value, (int, float, str, bool, type(None))):\n",
    "        label = widgets.HTML(value=format_python_literal(value),\n",
    "                             layout=widgets.Layout(margin='0 0 0 10px'))\n",
    "        row = widgets.HBox([btn, label])\n",
    "    elif hasattr(value, '__dict__') or isinstance(value, (list, dict, tuple, set)):\n",
    "        nested = object_explorer(value, title=str(attr), curr_depth=curr_depth+1, max_depth=max_depth)\n",
    "        label = widgets.HTML(value=format_python_literal(value),\n",
    "                             layout=widgets.Layout(width='150px', flex='0 0 auto'))\n",
    "        row = widgets.HBox([nested, label])\n",
    "    else:\n",
    "        label = widgets.HTML(value=format_python_literal(value),\n",
    "                             layout=widgets.Layout(margin='0 0 0 10px'))\n",
    "        row = widgets.HBox([btn, label])\n",
    "\n",
    "    row.layout = widgets.Layout(flex='0 0 auto', width='100%')\n",
    "    return row\n",
    "\n",
    "def object_explorer(obj, title=\"Explorer\", curr_depth=0, max_depth=3):\n",
    "    \"\"\"\n",
    "    Create an interactive object explorer for Python objects.\n",
    "\n",
    "    :param obj: The object to explore.\n",
    "    :param title: The title of the explorer.\n",
    "    :param curr_depth: The current depth of exploration (not used in this version).\n",
    "    :param max_depth: The maximum depth to explore (not used in this version).\n",
    "    \"\"\"\n",
    "    content = []\n",
    "    if curr_depth > max_depth:\n",
    "        content.append(widgets.HTML(value=\"<code>Max depth reached</code>\"))\n",
    "    elif isinstance(obj, (int, float, str, bool, type(None))):\n",
    "        content.append(widgets.HTML(value=format_python_literal(obj),))\n",
    "    elif is_iterable(obj) and not isinstance(obj, (dict, UserDict)):\n",
    "        for i, item in enumerate(obj):\n",
    "            content.append(make_attr_row(f\"Item {i}\", item, curr_depth, max_depth))\n",
    "    elif isinstance(obj, dict):\n",
    "        for key, value in obj.items():\n",
    "            content.append(make_attr_row(str(key), value, curr_depth, max_depth))\n",
    "    else:\n",
    "        methods = []\n",
    "        unreadable = []\n",
    "        for attr in dir(obj):\n",
    "            if attr.startswith('_'):\n",
    "                continue\n",
    "            try:\n",
    "                val = getattr(obj, attr)\n",
    "                if callable(val):\n",
    "                    methods.append((attr, val))\n",
    "                    continue\n",
    "            except Exception as e:\n",
    "                unreadable.append((attr, e))\n",
    "                continue\n",
    "            content.append(make_attr_row(attr, val, curr_depth, max_depth))\n",
    "        for method in methods:\n",
    "            content.append(make_attr_row(method[0], method[1], curr_depth, max_depth))\n",
    "        for unreadable in unreadable:\n",
    "            content.append(make_attr_row(unreadable[0], unreadable[1], curr_depth, max_depth))\n",
    "\n",
    "    scrollable_vbox = widgets.VBox(content, layout=widgets.Layout(\n",
    "        flex='0 0 auto',\n",
    "        width='100%',\n",
    "        align_items='stretch'\n",
    "    ))\n",
    "\n",
    "    scroll_area = widgets.Box([scrollable_vbox], layout=widgets.Layout(\n",
    "        overflow='auto',          # ✅ enables scrollbar\n",
    "        border='1px solid gray',\n",
    "        height='300px',           # ✅ fixed height to force scroll\n",
    "        width='100%',\n",
    "        display='flex',           # ✅ required to make scrollbar show in Jupyter\n",
    "        flex_flow='column',\n",
    "        align_items='stretch'\n",
    "    ))\n",
    "\n",
    "    acc = widgets.Accordion(children=[scroll_area])\n",
    "    acc.set_title(0, title)\n",
    "    return acc\n"
   ],
   "outputs": [],
   "execution_count": 44
  },
  {
   "metadata": {
    "ExecuteTime": {
     "end_time": "2025-05-17T22:00:09.594306Z",
     "start_time": "2025-05-17T22:00:09.586204Z"
    }
   },
   "cell_type": "code",
   "source": [
    "from ripple_down_rules.datastructures.dataclasses import CaseQuery\n",
    "from ripple_down_rules.datasets import load_zoo_dataset, Species\n",
    "\n",
    "cases, targets = load_zoo_dataset(cache_file=\"zoo\")\n",
    "cq = CaseQuery(cases[0], \"species\", (Species,), True , _target=targets[0])"
   ],
   "id": "87bb2151971cd1fb",
   "outputs": [],
   "execution_count": 28
  },
  {
   "metadata": {
    "ExecuteTime": {
     "end_time": "2025-05-17T22:17:21.423481Z",
     "start_time": "2025-05-17T22:17:19.541470Z"
    }
   },
   "cell_type": "code",
   "source": [
    "class Sample:\n",
    "    def __init__(self):\n",
    "        self.name = \"Robot\"\n",
    "        self.id = 42\n",
    "        self.data = {\"a\": [1, 2], \"b\": \"test\"}\n",
    "\n",
    "explorer = object_explorer(cq, title=\"CaseQuery\")\n",
    "display(explorer)"
   ],
   "id": "e264ac533c90afff",
   "outputs": [
    {
     "data": {
      "text/plain": [
       "Stack(children=(Box(children=(VBox(children=(HBox(children=(Button(description='attribute_name', layout=Layout…"
      ],
      "application/vnd.jupyter.widget-view+json": {
       "version_major": 2,
       "version_minor": 0,
       "model_id": "d404c184c5b04a678d43429734e88ebc"
      }
     },
     "metadata": {},
     "output_type": "display_data"
    }
   ],
   "execution_count": 45
  },
  {
   "metadata": {},
   "cell_type": "code",
   "source": "",
   "id": "8b068685a3375e1b",
   "outputs": [],
   "execution_count": null
  }
 ],
 "metadata": {
  "kernelspec": {
   "display_name": "Python 3",
   "language": "python",
   "name": "python3"
  },
  "language_info": {
   "codemirror_mode": {
    "name": "ipython",
    "version": 2
   },
   "file_extension": ".py",
   "mimetype": "text/x-python",
   "name": "python",
   "nbconvert_exporter": "python",
   "pygments_lexer": "ipython2",
   "version": "2.7.6"
  }
 },
 "nbformat": 4,
 "nbformat_minor": 5
}
